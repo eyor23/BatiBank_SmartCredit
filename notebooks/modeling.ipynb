{
 "cells": [
  {
   "cell_type": "code",
   "execution_count": 3,
   "metadata": {},
   "outputs": [],
   "source": [
    "import sys\n",
    "import pandas as pd\n",
    "import os\n",
    "sys.path.append(os.path.abspath(\"..\"))\n",
    "\n",
    "# Sci-kit\n",
    "from sklearn.model_selection import train_test_split\n",
    "from sklearn.ensemble import RandomForestClassifier, GradientBoostingClassifier\n",
    "from sklearn.linear_model import LogisticRegression\n",
    "from sklearn.svm import SVC\n",
    "from sklearn.metrics import roc_auc_score, f1_score, classification_report\n",
    "import warnings\n",
    "warnings.filterwarnings('ignore','futurewarning')\n",
    "\n",
    "# User-defined modules\n",
    "from src.model_train_ev import train_evaluate_model\n"
   ]
  },
  {
   "cell_type": "code",
   "execution_count": 4,
   "metadata": {},
   "outputs": [],
   "source": [
    "# Load the data\n",
    "X_train = pd.read_csv(r'C:\\Users\\user\\Desktop\\BatiBank_SmartCredit\\data\\X_train_woe.csv')\n",
    "X_test = pd.read_csv(r'C:\\Users\\user\\Desktop\\BatiBank_SmartCredit\\data\\X_test_woe.csv')\n",
    "y_train = pd.read_csv(r'C:\\Users\\user\\Desktop\\BatiBank_SmartCredit\\data\\y_train.csv')['FraudResult']\n",
    "y_test = pd.read_csv(r'C:\\Users\\user\\Desktop\\BatiBank_SmartCredit\\data\\y_test.csv')['FraudResult']"
   ]
  },
  {
   "cell_type": "code",
   "execution_count": 3,
   "metadata": {},
   "outputs": [
    {
     "name": "stdout",
     "output_type": "stream",
     "text": [
      "X_train (152744, 20)\n",
      "X_test (19133, 20)\n",
      "y_train (152744,)\n",
      "y_test (19133,)\n"
     ]
    }
   ],
   "source": [
    "print('X_train', X_train.shape)\n",
    "print('X_test', X_test.shape)\n",
    "print('y_train', y_train.shape)\n",
    "print('y_test', y_test.shape)"
   ]
  },
  {
   "cell_type": "markdown",
   "metadata": {},
   "source": [
    "# **Model Initialization**"
   ]
  },
  {
   "cell_type": "code",
   "execution_count": 4,
   "metadata": {},
   "outputs": [],
   "source": [
    "# Initialize models\n",
    "rf_model = RandomForestClassifier(random_state=42)\n",
    "gb_model = GradientBoostingClassifier(random_state=42)\n",
    "lr_model = LogisticRegression(random_state=42, solver='liblinear')\n",
    "svm_model = SVC(random_state=42, probability=True) #probability=True to get predict_proba"
   ]
  },
  {
   "cell_type": "code",
   "execution_count": 5,
   "metadata": {},
   "outputs": [
    {
     "name": "stdout",
     "output_type": "stream",
     "text": [
      "\n",
      "Random Forest Results:\n",
      "              precision    recall  f1-score   support\n",
      "\n",
      "           0       1.00      0.39      0.57     19097\n",
      "           1       0.00      1.00      0.01        36\n",
      "\n",
      "    accuracy                           0.40     19133\n",
      "   macro avg       0.50      0.70      0.29     19133\n",
      "weighted avg       1.00      0.40      0.56     19133\n",
      "\n",
      "ROC-AUC: 0.740876984750368\n",
      "F1-score: 0.006182911120652641\n",
      "\n",
      "Gradient Boosting Results:\n",
      "              precision    recall  f1-score   support\n",
      "\n",
      "           0       1.00      0.37      0.54     19097\n",
      "           1       0.00      0.92      0.01        36\n",
      "\n",
      "    accuracy                           0.37     19133\n",
      "   macro avg       0.50      0.64      0.27     19133\n",
      "weighted avg       1.00      0.37      0.54     19133\n",
      "\n",
      "ROC-AUC: 0.6587233015075085\n",
      "F1-score: 0.005456800330715172\n",
      "\n",
      "Logistic Regression Results:\n",
      "              precision    recall  f1-score   support\n",
      "\n",
      "           0       1.00      0.40      0.57     19097\n",
      "           1       0.00      1.00      0.01        36\n",
      "\n",
      "    accuracy                           0.40     19133\n",
      "   macro avg       0.50      0.70      0.29     19133\n",
      "weighted avg       1.00      0.40      0.57     19133\n",
      "\n",
      "ROC-AUC: 0.7000837827931088\n",
      "F1-score: 0.006244037811117856\n",
      "\n",
      "SVM Results:\n",
      "              precision    recall  f1-score   support\n",
      "\n",
      "           0       0.00      0.00      0.00     19097\n",
      "           1       0.00      1.00      0.00        36\n",
      "\n",
      "    accuracy                           0.00     19133\n",
      "   macro avg       0.00      0.50      0.00     19133\n",
      "weighted avg       0.00      0.00      0.00     19133\n",
      "\n",
      "ROC-AUC: 0.3894067130962978\n",
      "F1-score: 0.0037560644791068912\n"
     ]
    },
    {
     "name": "stderr",
     "output_type": "stream",
     "text": [
      "c:\\Users\\user\\Desktop\\BatiBank_SmartCredit\\batvenv\\Lib\\site-packages\\sklearn\\metrics\\_classification.py:1565: UndefinedMetricWarning: Precision is ill-defined and being set to 0.0 in labels with no predicted samples. Use `zero_division` parameter to control this behavior.\n",
      "  _warn_prf(average, modifier, f\"{metric.capitalize()} is\", len(result))\n",
      "c:\\Users\\user\\Desktop\\BatiBank_SmartCredit\\batvenv\\Lib\\site-packages\\sklearn\\metrics\\_classification.py:1565: UndefinedMetricWarning: Precision is ill-defined and being set to 0.0 in labels with no predicted samples. Use `zero_division` parameter to control this behavior.\n",
      "  _warn_prf(average, modifier, f\"{metric.capitalize()} is\", len(result))\n",
      "c:\\Users\\user\\Desktop\\BatiBank_SmartCredit\\batvenv\\Lib\\site-packages\\sklearn\\metrics\\_classification.py:1565: UndefinedMetricWarning: Precision is ill-defined and being set to 0.0 in labels with no predicted samples. Use `zero_division` parameter to control this behavior.\n",
      "  _warn_prf(average, modifier, f\"{metric.capitalize()} is\", len(result))\n"
     ]
    }
   ],
   "source": [
    "# Train and evaluate models\n",
    "train_evaluate_model(rf_model, X_train, y_train, X_test, y_test, \"Random Forest\")\n",
    "train_evaluate_model(gb_model, X_train, y_train, X_test, y_test, \"Gradient Boosting\")\n",
    "train_evaluate_model(lr_model, X_train, y_train, X_test, y_test, \"Logistic Regression\")\n",
    "train_evaluate_model(svm_model, X_train, y_train, X_test, y_test, \"SVM\")"
   ]
  },
  {
   "cell_type": "code",
   "execution_count": 6,
   "metadata": {},
   "outputs": [
    {
     "data": {
      "image/png": "[encoded data removed]",
      "text/plain": [
       "<Figure size 640x480 with 1 Axes>"
      ]
     },
     "metadata": {},
     "output_type": "display_data"
    }
   ],
   "source": [
    "from sklearn.metrics import precision_recall_curve, classification_report\n",
    "import matplotlib.pyplot as plt\n",
    "# Example using Random Forest\n",
    "rf_probs = rf_model.predict_proba(X_test)[:, 1]\n",
    "precision, recall, thresholds = precision_recall_curve(y_test, rf_probs)\n",
    "\n",
    "# Plot Precision-Recall Curve\n",
    "plt.plot(recall, precision)\n",
    "plt.xlabel('Recall')\n",
    "plt.ylabel('Precision')\n",
    "plt.title('Precision-Recall Curve')\n",
    "plt.show()"
   ]
  },
  {
   "cell_type": "code",
   "execution_count": 8,
   "metadata": {},
   "outputs": [],
   "source": [
    "import numpy as np\n",
    "# Find optimal threshold (example: maximizing F1-score)\n",
    "f1_scores = 2 * (precision * recall) / (precision + recall + 1e-10)\n",
    "optimal_threshold = thresholds[np.argmax(f1_scores)]\n"
   ]
  },
  {
   "cell_type": "code",
   "execution_count": 9,
   "metadata": {},
   "outputs": [
    {
     "name": "stdout",
     "output_type": "stream",
     "text": [
      "              precision    recall  f1-score   support\n",
      "\n",
      "           0       1.00      0.98      0.99     19097\n",
      "           1       0.01      0.06      0.01        36\n",
      "\n",
      "    accuracy                           0.98     19133\n",
      "   macro avg       0.50      0.52      0.50     19133\n",
      "weighted avg       1.00      0.98      0.99     19133\n",
      "\n"
     ]
    }
   ],
   "source": [
    "# Make predictions with adjusted threshold\n",
    "rf_predictions_adjusted = (rf_probs >= optimal_threshold).astype(int)\n",
    "\n",
    "# Print classification report\n",
    "print(classification_report(y_test, rf_predictions_adjusted))"
   ]
  },
  {
   "cell_type": "code",
   "execution_count": 5,
   "metadata": {},
   "outputs": [
    {
     "name": "stdout",
     "output_type": "stream",
     "text": [
      "Logistic Regression (Baseline):\n",
      "               precision    recall  f1-score   support\n",
      "\n",
      "           0       1.00      0.40      0.57     19097\n",
      "           1       0.00      1.00      0.01        36\n",
      "\n",
      "    accuracy                           0.40     19133\n",
      "   macro avg       0.50      0.70      0.29     19133\n",
      "weighted avg       1.00      0.40      0.57     19133\n",
      "\n",
      "\n",
      "Random Forest (Baseline):\n",
      "               precision    recall  f1-score   support\n",
      "\n",
      "           0       1.00      0.39      0.57     19097\n",
      "           1       0.00      1.00      0.01        36\n",
      "\n",
      "    accuracy                           0.40     19133\n",
      "   macro avg       0.50      0.70      0.29     19133\n",
      "weighted avg       1.00      0.40      0.56     19133\n",
      "\n",
      "\n",
      "XGBoost (Baseline):\n",
      "               precision    recall  f1-score   support\n",
      "\n",
      "           0       1.00      0.00      0.00     19097\n",
      "           1       0.00      1.00      0.00        36\n",
      "\n",
      "    accuracy                           0.00     19133\n",
      "   macro avg       0.50      0.50      0.00     19133\n",
      "weighted avg       1.00      0.00      0.00     19133\n",
      "\n"
     ]
    }
   ],
   "source": [
    "from sklearn.linear_model import LogisticRegression\n",
    "from sklearn.ensemble import RandomForestClassifier\n",
    "import xgboost as xgb\n",
    "from sklearn.metrics import classification_report, roc_auc_score, f1_score\n",
    "\n",
    "# Logistic Regression\n",
    "lr_model = LogisticRegression(random_state=42, solver='liblinear')\n",
    "lr_model.fit(X_train, y_train)\n",
    "lr_predictions = lr_model.predict(X_test)\n",
    "print(\"Logistic Regression (Baseline):\\n\", classification_report(y_test, lr_predictions))\n",
    "\n",
    "# Random Forest\n",
    "rf_model = RandomForestClassifier(random_state=42)\n",
    "rf_model.fit(X_train, y_train)\n",
    "rf_predictions = rf_model.predict(X_test)\n",
    "print(\"\\nRandom Forest (Baseline):\\n\", classification_report(y_test, rf_predictions))\n",
    "\n",
    "# XGBoost\n",
    "xgb_model = xgb.XGBClassifier(random_state=42)\n",
    "xgb_model.fit(X_train, y_train)\n",
    "xgb_predictions = xgb_model.predict(X_test)\n",
    "print(\"\\nXGBoost (Baseline):\\n\", classification_report(y_test, xgb_predictions))"
   ]
  },
  {
   "cell_type": "code",
   "execution_count": null,
   "metadata": {},
   "outputs": [],
   "source": [
    "from sklearn.model_selection import GridSearchCV\n",
    "\n",
    "# Logistic Regression Grid Search\n",
    "lr_params = {\n",
    "    'C': [0.001, 0.01, 0.1, 1, 10, 100],\n",
    "    'penalty': ['l1', 'l2']\n",
    "}\n",
    "lr_grid = GridSearchCV(LogisticRegression(random_state=42, solver='liblinear'), lr_params, cv=3, scoring='f1') #scoring is very important.\n",
    "lr_grid.fit(X_train, y_train)\n",
    "print(\"Logistic Regression (Best Params):\", lr_grid.best_params_)\n",
    "lr_best_model = lr_grid.best_estimator_\n",
    "lr_best_predictions = lr_best_model.predict(X_test)\n",
    "print(\"Logistic Regression (Tuned):\\n\", classification_report(y_test, lr_best_predictions))\n",
    "\n",
    "# Random Forest Grid Search\n",
    "rf_params = {\n",
    "    'n_estimators': [50, 100, 200],\n",
    "    'max_depth': [None, 10, 20, 30],\n",
    "    'min_samples_split': [2, 5, 10],\n",
    "    'min_samples_leaf': [1, 2, 4]\n",
    "}\n",
    "rf_grid = GridSearchCV(RandomForestClassifier(random_state=42), rf_params, cv=3, scoring='f1') #scoring is very important.\n",
    "rf_grid.fit(X_train, y_train)\n",
    "print(\"\\nRandom Forest (Best Params):\", rf_grid.best_params_)\n",
    "rf_best_model = rf_grid.best_estimator_\n",
    "rf_best_predictions = rf_best_model.predict(X_test)\n",
    "print(\"Random Forest (Tuned):\\n\", classification_report(y_test, rf_best_predictions))\n",
    "\n",
    "# XGBoost Grid Search\n",
    "xgb_params = {\n",
    "    'n_estimators': [50, 100, 200],\n",
    "    'max_depth': [3, 6, 9],\n",
    "    'learning_rate': [0.01, 0.1, 0.2],\n",
    "    'subsample': [0.7, 0.8, 1.0],\n",
    "    'colsample_bytree': [0.7, 0.8, 1.0]\n",
    "}\n",
    "xgb_grid = GridSearchCV(xgb.XGBClassifier(random_state=42), xgb_params, cv=3, scoring='f1')#scoring is very important.\n",
    "xgb_grid.fit(X_train, y_train)\n",
    "print(\"\\nXGBoost (Best Params):\", xgb_grid.best_params_)\n",
    "xgb_best_model = xgb_grid.best_estimator_\n",
    "xgb_best_predictions = xgb_best_model.predict(X_test)\n",
    "print(\"XGBoost (Tuned):\\n\", classification_report(y_test, xgb_best_predictions))"
   ]
  }
 ],
 "metadata": {
  "kernelspec": {
   "display_name": "batvenv",
   "language": "python",
   "name": "python3"
  },
  "language_info": {
   "codemirror_mode": {
    "name": "ipython",
    "version": 3
   },
   "file_extension": ".py",
   "mimetype": "text/x-python",
   "name": "python",
   "nbconvert_exporter": "python",
   "pygments_lexer": "ipython3",
   "version": "3.12.2"
  }
 },
 "nbformat": 4,
 "nbformat_minor": 2
}
