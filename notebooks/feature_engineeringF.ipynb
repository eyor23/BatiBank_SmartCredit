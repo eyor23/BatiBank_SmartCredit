{
 "cells": [
  {
   "cell_type": "code",
   "execution_count": 24,
   "metadata": {},
   "outputs": [],
   "source": [
    "import pandas as pd\n",
    "import sys\n",
    "import numpy as np\n",
    "import os\n",
    "from sklearn.model_selection import train_test_split\n",
    "sys.path.append(os.path.abspath(\"..\"))\n",
    "from sklearn.model_selection import train_test_split\n",
    "from sklearn.impute import SimpleImputer\n",
    "from imblearn.over_sampling import SMOTE\n",
    "from src.feature_engineering import apply_smote, encode_categorical_features # import encode_categorical_features\n",
    "from sklearn.preprocessing import StandardScaler\n",
    "from sklearn.ensemble import RandomForestClassifier\n",
    "from sklearn.feature_selection import SelectFromModel\n",
    "from sklearn.linear_model import LogisticRegression\n",
    "from sklearn.metrics import classification_report, roc_auc_score\n",
    "import warnings\n",
    "warnings.filterwarnings('ignore','futurewarning')\n",
    "\n",
    "# User-defined modules\n",
    "from src.utils import drop_missing_columns, drop_correlated_columns\n",
    "from src.feature_engineering import (\n",
    "    create_product_amount_interaction,\n",
    "    create_customer_aggregate_features,\n",
    "    create_rfms_features,\n",
    "    encode_categorical_features\n",
    ")\n"
   ]
  },
  {
   "cell_type": "code",
   "execution_count": 25,
   "metadata": {},
   "outputs": [],
   "source": [
    "# Load the data\n",
    "transact_df = pd.read_csv(r'C:\\Users\\user\\Desktop\\BatiBank_SmartCredit\\data\\Cleaned_data.csv')"
   ]
  },
  {
   "cell_type": "code",
   "execution_count": 26,
   "metadata": {},
   "outputs": [],
   "source": [
    "# Datatime Conversion\n",
    "transact_df['TransactionStartTime'] = pd.to_datetime(transact_df['TransactionStartTime'])"
   ]
  },
  {
   "cell_type": "markdown",
   "metadata": {},
   "source": [
    "# **Feature Engineering**"
   ]
  },
  {
   "cell_type": "code",
   "execution_count": 27,
   "metadata": {},
   "outputs": [],
   "source": [
    "# Create Product Amount Interaction\n",
    "transact_df = create_product_amount_interaction(transact_df)"
   ]
  },
  {
   "cell_type": "code",
   "execution_count": 28,
   "metadata": {},
   "outputs": [],
   "source": [
    "# Create Customer Aggregate Feature\n",
    "transact_df = create_customer_aggregate_features(transact_df, customer_id_col='CustomerId', amount_col='Amount')"
   ]
  },
  {
   "cell_type": "code",
   "execution_count": 29,
   "metadata": {},
   "outputs": [],
   "source": [
    "# Create RFM Features\n",
    "transact_df = create_rfms_features(transact_df, customer_id_col='CustomerId', transaction_time_col='TransactionStartTime', amount_col='Amount')"
   ]
  },
  {
   "cell_type": "code",
   "execution_count": 30,
   "metadata": {},
   "outputs": [],
   "source": [
    "# Encode Categorical Variables\n",
    "categorical_cols = ['CountryCode', 'ProviderId', 'ProductId', 'ProductCategory', 'ChannelId']\n",
    "transact_df = encode_categorical_features(transact_df, categorical_cols, target_col='FraudResult')"
   ]
  },
  {
   "cell_type": "code",
   "execution_count": 31,
   "metadata": {},
   "outputs": [
    {
     "name": "stdout",
     "output_type": "stream",
     "text": [
      "<class 'pandas.core.frame.DataFrame'>\n",
      "RangeIndex: 95662 entries, 0 to 95661\n",
      "Data columns (total 28 columns):\n",
      " #   Column                       Non-Null Count  Dtype              \n",
      "---  ------                       --------------  -----              \n",
      " 0   TransactionId                95662 non-null  object             \n",
      " 1   BatchId                      95662 non-null  object             \n",
      " 2   AccountId                    95662 non-null  object             \n",
      " 3   SubscriptionId               95662 non-null  object             \n",
      " 4   CustomerId                   95662 non-null  object             \n",
      " 5   Amount                       95662 non-null  float64            \n",
      " 6   TransactionStartTime         95662 non-null  datetime64[ns, UTC]\n",
      " 7   PricingStrategy              95662 non-null  int64              \n",
      " 8   FraudResult                  95662 non-null  int64              \n",
      " 9   Month                        95662 non-null  int64              \n",
      " 10  Day                          95662 non-null  int64              \n",
      " 11  Hour                         95662 non-null  int64              \n",
      " 12  Weekday                      95662 non-null  int64              \n",
      " 13  IsWeekend                    95662 non-null  int64              \n",
      " 14  ProductCategory_Amount_Mean  95662 non-null  float64            \n",
      " 15  customer_total_amount        95662 non-null  float64            \n",
      " 16  customer_mean_amount         95662 non-null  float64            \n",
      " 17  customer_transaction_count   95662 non-null  int64              \n",
      " 18  customer_amount_std          94950 non-null  float64            \n",
      " 19  TransactionDate_x            95662 non-null  object             \n",
      " 20  TransactionDate_y            95662 non-null  datetime64[ns]     \n",
      " 21  Recency                      95662 non-null  int64              \n",
      " 22  Frequency                    95662 non-null  int64              \n",
      " 23  Monetary                     95662 non-null  float64            \n",
      " 24  ProviderId_encoded           95662 non-null  float64            \n",
      " 25  ProductId_encoded            95662 non-null  float64            \n",
      " 26  ProductCategory_encoded      95662 non-null  float64            \n",
      " 27  ChannelId_encoded            95662 non-null  float64            \n",
      "dtypes: datetime64[ns, UTC](1), datetime64[ns](1), float64(10), int64(10), object(6)\n",
      "memory usage: 20.4+ MB\n"
     ]
    }
   ],
   "source": [
    "transact_df.info()"
   ]
  },
  {
   "cell_type": "code",
   "execution_count": 32,
   "metadata": {},
   "outputs": [],
   "source": [
    "# Fix TransactionDate_x and drop redundant columns\n",
    "transact_df['TransactionDate_x'] = pd.to_datetime(transact_df['TransactionDate_x'])\n",
    "transact_df = transact_df.drop(['TransactionDate_x', 'TransactionDate_y'], axis=1)"
   ]
  },
  {
   "cell_type": "code",
   "execution_count": 33,
   "metadata": {},
   "outputs": [],
   "source": [
    "# Handle missing values\n",
    "transact_df['customer_amount_std'] = transact_df['customer_amount_std'].fillna(transact_df['customer_amount_std'].mean())"
   ]
  },
  {
   "cell_type": "code",
   "execution_count": 34,
   "metadata": {},
   "outputs": [],
   "source": [
    "# Drop Redundant Columns\n",
    "id_cols = ['TransactionId', 'BatchId', 'AccountId', 'SubscriptionId', 'CustomerId', 'TransactionStartTime']\n",
    "transact_df = transact_df.drop(id_cols, axis=1)"
   ]
  },
  {
   "cell_type": "code",
   "execution_count": 35,
   "metadata": {},
   "outputs": [],
   "source": [
    "# Data Splitting\n",
    "X = transact_df.drop('FraudResult', axis=1)\n",
    "y = transact_df['FraudResult']\n",
    "X_train, X_test, y_train, y_test = train_test_split(X, y, test_size=0.2, random_state=42)\n",
    "train = pd.concat([X_train, y_train], axis=1)\n",
    "test = pd.concat([X_test, y_test], axis=1)"
   ]
  },
  {
   "cell_type": "code",
   "execution_count": 36,
   "metadata": {},
   "outputs": [],
   "source": [
    "# Scale numerical features\n",
    "scaler = StandardScaler()\n",
    "numerical_cols = X.select_dtypes(include=np.number).columns\n",
    "X_train[numerical_cols] = scaler.fit_transform(X_train[numerical_cols])\n",
    "X_test[numerical_cols] = scaler.transform(X_test[numerical_cols])"
   ]
  },
  {
   "cell_type": "code",
   "execution_count": 37,
   "metadata": {},
   "outputs": [],
   "source": [
    "# Handling Class Imbalance (SMOTE)\n",
    "smote = SMOTE(random_state=42)\n",
    "X_train_resampled, y_train_resampled = smote.fit_resample(X_train, y_train)\n",
    "train_balanced = pd.concat([pd.DataFrame(X_train_resampled, columns=X.columns), pd.Series(y_train_resampled, name='FraudResult')], axis=1)"
   ]
  },
  {
   "cell_type": "code",
   "execution_count": 38,
   "metadata": {},
   "outputs": [
    {
     "data": {
      "text/html": [
       "<div>\n",
       "<style scoped>\n",
       "    .dataframe tbody tr th:only-of-type {\n",
       "        vertical-align: middle;\n",
       "    }\n",
       "\n",
       "    .dataframe tbody tr th {\n",
       "        vertical-align: top;\n",
       "    }\n",
       "\n",
       "    .dataframe thead th {\n",
       "        text-align: right;\n",
       "    }\n",
       "</style>\n",
       "<table border=\"1\" class=\"dataframe\">\n",
       "  <thead>\n",
       "    <tr style=\"text-align: right;\">\n",
       "      <th></th>\n",
       "      <th>Amount</th>\n",
       "      <th>PricingStrategy</th>\n",
       "      <th>Month</th>\n",
       "      <th>Day</th>\n",
       "      <th>Hour</th>\n",
       "      <th>Weekday</th>\n",
       "      <th>IsWeekend</th>\n",
       "      <th>ProductCategory_Amount_Mean</th>\n",
       "      <th>customer_total_amount</th>\n",
       "      <th>customer_mean_amount</th>\n",
       "      <th>customer_transaction_count</th>\n",
       "      <th>customer_amount_std</th>\n",
       "      <th>Recency</th>\n",
       "      <th>Frequency</th>\n",
       "      <th>Monetary</th>\n",
       "      <th>ProviderId_encoded</th>\n",
       "      <th>ProductId_encoded</th>\n",
       "      <th>ProductCategory_encoded</th>\n",
       "      <th>ChannelId_encoded</th>\n",
       "      <th>FraudResult</th>\n",
       "    </tr>\n",
       "  </thead>\n",
       "  <tbody>\n",
       "    <tr>\n",
       "      <th>0</th>\n",
       "      <td>-0.056453</td>\n",
       "      <td>-0.34828</td>\n",
       "      <td>-1.064909</td>\n",
       "      <td>-0.321961</td>\n",
       "      <td>-0.919098</td>\n",
       "      <td>1.604086</td>\n",
       "      <td>1.959418</td>\n",
       "      <td>0.626597</td>\n",
       "      <td>0.172292</td>\n",
       "      <td>-0.064638</td>\n",
       "      <td>-0.302877</td>\n",
       "      <td>-0.176384</td>\n",
       "      <td>-0.776423</td>\n",
       "      <td>-0.302877</td>\n",
       "      <td>0.172292</td>\n",
       "      <td>-0.435339</td>\n",
       "      <td>-0.384003</td>\n",
       "      <td>0.712656</td>\n",
       "      <td>-1.200709</td>\n",
       "      <td>0</td>\n",
       "    </tr>\n",
       "    <tr>\n",
       "      <th>1</th>\n",
       "      <td>-0.015089</td>\n",
       "      <td>-0.34828</td>\n",
       "      <td>1.040922</td>\n",
       "      <td>0.571105</td>\n",
       "      <td>0.730544</td>\n",
       "      <td>0.531040</td>\n",
       "      <td>-0.510356</td>\n",
       "      <td>-0.783679</td>\n",
       "      <td>0.179151</td>\n",
       "      <td>-0.023416</td>\n",
       "      <td>-0.370115</td>\n",
       "      <td>-0.136331</td>\n",
       "      <td>-0.522962</td>\n",
       "      <td>-0.370115</td>\n",
       "      <td>0.179151</td>\n",
       "      <td>-0.445267</td>\n",
       "      <td>-0.314554</td>\n",
       "      <td>-0.756159</td>\n",
       "      <td>0.775578</td>\n",
       "      <td>0</td>\n",
       "    </tr>\n",
       "    <tr>\n",
       "      <th>2</th>\n",
       "      <td>-0.047531</td>\n",
       "      <td>-0.34828</td>\n",
       "      <td>-1.064909</td>\n",
       "      <td>0.794371</td>\n",
       "      <td>1.142955</td>\n",
       "      <td>-0.542005</td>\n",
       "      <td>-0.510356</td>\n",
       "      <td>-0.783679</td>\n",
       "      <td>0.171434</td>\n",
       "      <td>-0.061053</td>\n",
       "      <td>-0.340485</td>\n",
       "      <td>-0.166179</td>\n",
       "      <td>-0.725731</td>\n",
       "      <td>-0.340485</td>\n",
       "      <td>0.171434</td>\n",
       "      <td>-0.445267</td>\n",
       "      <td>-0.294666</td>\n",
       "      <td>-0.756159</td>\n",
       "      <td>0.775578</td>\n",
       "      <td>0</td>\n",
       "    </tr>\n",
       "    <tr>\n",
       "      <th>3</th>\n",
       "      <td>-0.056209</td>\n",
       "      <td>-0.34828</td>\n",
       "      <td>-1.064909</td>\n",
       "      <td>-0.433594</td>\n",
       "      <td>-0.300482</td>\n",
       "      <td>1.067563</td>\n",
       "      <td>1.959418</td>\n",
       "      <td>0.626597</td>\n",
       "      <td>0.185842</td>\n",
       "      <td>-0.066662</td>\n",
       "      <td>-0.013413</td>\n",
       "      <td>-0.164355</td>\n",
       "      <td>0.693651</td>\n",
       "      <td>-0.013413</td>\n",
       "      <td>0.185842</td>\n",
       "      <td>-0.435339</td>\n",
       "      <td>-0.384003</td>\n",
       "      <td>0.712656</td>\n",
       "      <td>-1.200709</td>\n",
       "      <td>0</td>\n",
       "    </tr>\n",
       "    <tr>\n",
       "      <th>4</th>\n",
       "      <td>0.106567</td>\n",
       "      <td>-0.34828</td>\n",
       "      <td>-0.873470</td>\n",
       "      <td>-0.880127</td>\n",
       "      <td>-1.125304</td>\n",
       "      <td>0.531040</td>\n",
       "      <td>-0.510356</td>\n",
       "      <td>-0.783679</td>\n",
       "      <td>0.275953</td>\n",
       "      <td>-0.030453</td>\n",
       "      <td>0.205394</td>\n",
       "      <td>0.047578</td>\n",
       "      <td>-0.776423</td>\n",
       "      <td>0.205394</td>\n",
       "      <td>0.275953</td>\n",
       "      <td>-0.445267</td>\n",
       "      <td>-0.314554</td>\n",
       "      <td>-0.756159</td>\n",
       "      <td>0.775578</td>\n",
       "      <td>0</td>\n",
       "    </tr>\n",
       "  </tbody>\n",
       "</table>\n",
       "</div>"
      ],
      "text/plain": [
       "     Amount  PricingStrategy     Month       Day      Hour   Weekday  \\\n",
       "0 -0.056453         -0.34828 -1.064909 -0.321961 -0.919098  1.604086   \n",
       "1 -0.015089         -0.34828  1.040922  0.571105  0.730544  0.531040   \n",
       "2 -0.047531         -0.34828 -1.064909  0.794371  1.142955 -0.542005   \n",
       "3 -0.056209         -0.34828 -1.064909 -0.433594 -0.300482  1.067563   \n",
       "4  0.106567         -0.34828 -0.873470 -0.880127 -1.125304  0.531040   \n",
       "\n",
       "   IsWeekend  ProductCategory_Amount_Mean  customer_total_amount  \\\n",
       "0   1.959418                     0.626597               0.172292   \n",
       "1  -0.510356                    -0.783679               0.179151   \n",
       "2  -0.510356                    -0.783679               0.171434   \n",
       "3   1.959418                     0.626597               0.185842   \n",
       "4  -0.510356                    -0.783679               0.275953   \n",
       "\n",
       "   customer_mean_amount  customer_transaction_count  customer_amount_std  \\\n",
       "0             -0.064638                   -0.302877            -0.176384   \n",
       "1             -0.023416                   -0.370115            -0.136331   \n",
       "2             -0.061053                   -0.340485            -0.166179   \n",
       "3             -0.066662                   -0.013413            -0.164355   \n",
       "4             -0.030453                    0.205394             0.047578   \n",
       "\n",
       "    Recency  Frequency  Monetary  ProviderId_encoded  ProductId_encoded  \\\n",
       "0 -0.776423  -0.302877  0.172292           -0.435339          -0.384003   \n",
       "1 -0.522962  -0.370115  0.179151           -0.445267          -0.314554   \n",
       "2 -0.725731  -0.340485  0.171434           -0.445267          -0.294666   \n",
       "3  0.693651  -0.013413  0.185842           -0.435339          -0.384003   \n",
       "4 -0.776423   0.205394  0.275953           -0.445267          -0.314554   \n",
       "\n",
       "   ProductCategory_encoded  ChannelId_encoded  FraudResult  \n",
       "0                 0.712656          -1.200709            0  \n",
       "1                -0.756159           0.775578            0  \n",
       "2                -0.756159           0.775578            0  \n",
       "3                 0.712656          -1.200709            0  \n",
       "4                -0.756159           0.775578            0  "
      ]
     },
     "execution_count": 38,
     "metadata": {},
     "output_type": "execute_result"
    }
   ],
   "source": [
    "train_balanced.head()"
   ]
  },
  {
   "cell_type": "code",
   "execution_count": 39,
   "metadata": {},
   "outputs": [
    {
     "name": "stdout",
     "output_type": "stream",
     "text": [
      "The number of Non-Frauds are: 76372 which is 50.0 % of the dataset\n",
      "The number of Frauds are: 76372 which is 50.0 % of the dataset\n"
     ]
    }
   ],
   "source": [
    "# Checking the balance of the data\n",
    "print('The number of Non-Frauds are: ' + str(train_balanced['FraudResult'].value_counts()[0]) + ' which is', round(train_balanced['FraudResult'].value_counts()[0]/len(train_balanced) * 100,2), '% of the dataset')\n",
    "print('The number of Frauds are: ' + str(train_balanced['FraudResult'].value_counts()[1]) + ' which is', round(train_balanced['FraudResult'].value_counts()[1]/len(train_balanced) * 100,2), '% of the dataset')"
   ]
  },
  {
   "cell_type": "code",
   "execution_count": 20,
   "metadata": {},
   "outputs": [
    {
     "name": "stdout",
     "output_type": "stream",
     "text": [
      "<class 'pandas.core.frame.DataFrame'>\n",
      "RangeIndex: 152744 entries, 0 to 152743\n",
      "Data columns (total 20 columns):\n",
      " #   Column                       Non-Null Count   Dtype  \n",
      "---  ------                       --------------   -----  \n",
      " 0   Amount                       152744 non-null  float64\n",
      " 1   PricingStrategy              152744 non-null  float64\n",
      " 2   Month                        152744 non-null  float64\n",
      " 3   Day                          152744 non-null  float64\n",
      " 4   Hour                         152744 non-null  float64\n",
      " 5   Weekday                      152744 non-null  float64\n",
      " 6   IsWeekend                    152744 non-null  float64\n",
      " 7   ProductCategory_Amount_Mean  152744 non-null  float64\n",
      " 8   customer_total_amount        152744 non-null  float64\n",
      " 9   customer_mean_amount         152744 non-null  float64\n",
      " 10  customer_transaction_count   152744 non-null  float64\n",
      " 11  customer_amount_std          152744 non-null  float64\n",
      " 12  Recency                      152744 non-null  float64\n",
      " 13  Frequency                    152744 non-null  float64\n",
      " 14  Monetary                     152744 non-null  float64\n",
      " 15  ProviderId_encoded           152744 non-null  float64\n",
      " 16  ProductId_encoded            152744 non-null  float64\n",
      " 17  ProductCategory_encoded      152744 non-null  float64\n",
      " 18  ChannelId_encoded            152744 non-null  float64\n",
      " 19  FraudResult                  152744 non-null  int64  \n",
      "dtypes: float64(19), int64(1)\n",
      "memory usage: 23.3 MB\n"
     ]
    }
   ],
   "source": [
    "train_balanced.info()"
   ]
  },
  {
   "cell_type": "code",
   "execution_count": 41,
   "metadata": {},
   "outputs": [
    {
     "data": {
      "text/plain": [
       "FraudResult\n",
       "0    19097\n",
       "1       36\n",
       "Name: count, dtype: int64"
      ]
     },
     "execution_count": 41,
     "metadata": {},
     "output_type": "execute_result"
    }
   ],
   "source": [
    "test['FraudResult'].value_counts()"
   ]
  },
  {
   "cell_type": "code",
   "execution_count": 42,
   "metadata": {},
   "outputs": [],
   "source": [
    "# Save the prepared data for later use\n",
    "train_balanced.to_csv(r'C:\\Users\\user\\Desktop\\BatiBank_SmartCredit\\data\\train_balanced.csv', index=False)\n",
    "test.to_csv(r'C:\\Users\\user\\Desktop\\BatiBank_SmartCredit\\data\\test.csv', index=False)"
   ]
  },
  {
   "cell_type": "markdown",
   "metadata": {},
   "source": [
    "**Feature Engineering Summary:**\n",
    "\n",
    "The feature engineering process focused on transforming raw transaction data into a robust set of features for fraud detection. Key steps included:\n",
    "\n",
    "* **Datetime Handling:** Redundant datetime columns were corrected and removed, and a 'Recency' feature was derived from transaction dates.\n",
    "* **Missing Value Imputation:** Missing values in the 'customer_amount_std' column were imputed using the mean.\n",
    "* **Identifier Removal:** Irrelevant identifier columns (TransactionId, BatchId, etc.) and the 'TransactionStartTime' column were dropped.\n",
    "* **Categorical Encoding:** Categorical features (ProviderId, ProductId, etc.) were encoded using target encoding.\n",
    "* **Feature Creation:** New features were created, including 'ProductCategory_Amount_Mean', customer aggregate features (total amount, mean amount, transaction count, standard deviation), and RFM (Recency, Frequency, Monetary) features.\n",
    "* **Data Scaling:** Numerical features were scaled using StandardScaler to ensure consistent scales for model training.\n",
    "* **Class Imbalance Handling:** The training dataset was balanced using SMOTE (Synthetic Minority Over-sampling Technique), resulting in an equal distribution of fraud and non-fraud cases (50% each), with 76,372 cases of each class in the train_balanced dataset.\n",
    "* **Data Type Optimization:** Data types were optimized to improve memory efficiency.\n",
    "\n",
    "The resulting DataFrame contains numerical features, encoded categorical features, and the target variable 'FraudResult', ready for model training."
   ]
  }
 ],
 "metadata": {
  "kernelspec": {
   "display_name": "batvenv",
   "language": "python",
   "name": "python3"
  },
  "language_info": {
   "codemirror_mode": {
    "name": "ipython",
    "version": 3
   },
   "file_extension": ".py",
   "mimetype": "text/x-python",
   "name": "python",
   "nbconvert_exporter": "python",
   "pygments_lexer": "ipython3",
   "version": "3.12.2"
  }
 },
 "nbformat": 4,
 "nbformat_minor": 2
}
