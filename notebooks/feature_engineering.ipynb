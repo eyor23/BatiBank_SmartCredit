{
 "cells": [
  {
   "cell_type": "code",
   "execution_count": 1,
   "metadata": {},
   "outputs": [],
   "source": [
    "import pandas as pd\n",
    "import sys\n",
    "import os\n",
    "from sklearn.model_selection import train_test_split\n",
    "sys.path.append(os.path.abspath(\"..\"))\n",
    "from sklearn.model_selection import train_test_split\n",
    "from sklearn.impute import SimpleImputer\n",
    "from src.feature_engineering import apply_smote, encode_categorical_features # import encode_categorical_features\n",
    "from sklearn.preprocessing import StandardScaler\n",
    "from sklearn.ensemble import RandomForestClassifier\n",
    "from sklearn.feature_selection import SelectFromModel\n",
    "from sklearn.linear_model import LogisticRegression\n",
    "from sklearn.metrics import classification_report, roc_auc_score\n",
    "import warnings\n",
    "warnings.filterwarnings('ignore','futurewarning')\n",
    "\n",
    "# User-defined modules\n",
    "from src.utils import drop_missing_columns, drop_correlated_columns\n",
    "from src.feature_engineering import (\n",
    "    create_time_features,\n",
    "    create_product_amount_interaction,\n",
    "    create_customer_aggregate_features,\n",
    "    create_rfms_features,\n",
    "    encode_categorical_features,\n",
    "    apply_smote\n",
    ")\n"
   ]
  },
  {
   "cell_type": "code",
   "execution_count": 2,
   "metadata": {},
   "outputs": [],
   "source": [
    "# Load the data\n",
    "transact_df = pd.read_csv(r'C:\\Users\\user\\Desktop\\BatiBank_SmartCredit\\data\\data.csv')"
   ]
  },
  {
   "cell_type": "code",
   "execution_count": 3,
   "metadata": {},
   "outputs": [
    {
     "name": "stdout",
     "output_type": "stream",
     "text": [
      "<class 'pandas._libs.tslibs.timestamps.Timestamp'>\n"
     ]
    }
   ],
   "source": [
    "transact_df['TransactionDate'] = pd.to_datetime(transact_df['TransactionStartTime']).dt.date\n",
    "recent_date = pd.to_datetime(transact_df['TransactionDate'].max())\n",
    "print(type(recent_date))"
   ]
  },
  {
   "cell_type": "code",
   "execution_count": 4,
   "metadata": {},
   "outputs": [],
   "source": [
    "# Create Time-Based Features\n",
    "transact_df ['TransactionStartTime'] = pd.to_datetime(transact_df['TransactionStartTime'])\n",
    "transact_df = create_time_features(transact_df)"
   ]
  },
  {
   "cell_type": "code",
   "execution_count": 5,
   "metadata": {},
   "outputs": [],
   "source": [
    "# Create Interaction Features for Product Category and Amount)\n",
    "transact_df = create_product_amount_interaction (transact_df)"
   ]
  },
  {
   "cell_type": "code",
   "execution_count": 6,
   "metadata": {},
   "outputs": [],
   "source": [
    "# Create Customer Aggregate Features\n",
    "transact_df = create_customer_aggregate_features(transact_df)"
   ]
  },
  {
   "cell_type": "code",
   "execution_count": 7,
   "metadata": {},
   "outputs": [],
   "source": [
    "# Create RFMS Features\n",
    "transact_df = create_rfms_features(transact_df)"
   ]
  },
  {
   "cell_type": "code",
   "execution_count": 8,
   "metadata": {},
   "outputs": [],
   "source": [
    "# Handling High Correlation (Amount/Value)\n",
    "transact_df = drop_correlated_columns(transact_df,['Value'])"
   ]
  },
  {
   "cell_type": "code",
   "execution_count": 9,
   "metadata": {},
   "outputs": [],
   "source": [
    "# Encodie Categorical Variables\n",
    "categorical_cols = ['ProductCategory', 'ChannelId', 'PricingStrategy', 'ProviderId', 'ProductId']\n",
    "transact_df = encode_categorical_features(transact_df, categorical_cols)\n"
   ]
  },
  {
   "cell_type": "code",
   "execution_count": null,
   "metadata": {},
   "outputs": [],
   "source": [
    "print(transact_df.columns)"
   ]
  },
  {
   "cell_type": "code",
   "execution_count": 10,
   "metadata": {},
   "outputs": [],
   "source": [
    "# Drop identifiers\n",
    "identifiers = ['CurrencyCode', 'TransactionId', 'BatchId', 'AccountId', 'SubscriptionId', 'CustomerId']\n",
    "transact_df = transact_df.drop(identifiers, axis=1)\n",
    "\n",
    "# Drop original time columns\n",
    "time_cols = ['TransactionStartTime', 'TransactionDate']\n",
    "transact_df = transact_df.drop(time_cols, axis=1)"
   ]
  },
  {
   "cell_type": "code",
   "execution_count": 11,
   "metadata": {},
   "outputs": [
    {
     "name": "stdout",
     "output_type": "stream",
     "text": [
      "Index(['CountryCode', 'Amount', 'FraudResult', 'TransactionHour',\n",
      "       'TransactionDayOfWeek', 'TransactionMonth', 'TransactionYear',\n",
      "       'ProductCategory_Amount', 'customer_total_amount',\n",
      "       'customer_mean_amount', 'customer_transaction_count',\n",
      "       'customer_amount_std', 'Recency', 'Frequency', 'Monetary',\n",
      "       'ProductCategory_airtime', 'ProductCategory_data_bundles',\n",
      "       'ProductCategory_financial_services', 'ProductCategory_movies',\n",
      "       'ProductCategory_other', 'ProductCategory_ticket',\n",
      "       'ProductCategory_transport', 'ProductCategory_tv',\n",
      "       'ProductCategory_utility_bill', 'ChannelId_ChannelId_1',\n",
      "       'ChannelId_ChannelId_2', 'ChannelId_ChannelId_3',\n",
      "       'ChannelId_ChannelId_5', 'PricingStrategy_0', 'PricingStrategy_1',\n",
      "       'PricingStrategy_2', 'PricingStrategy_4', 'ProviderId_ProviderId_1',\n",
      "       'ProviderId_ProviderId_2', 'ProviderId_ProviderId_3',\n",
      "       'ProviderId_ProviderId_4', 'ProviderId_ProviderId_5',\n",
      "       'ProviderId_ProviderId_6', 'ProductId_ProductId_1',\n",
      "       'ProductId_ProductId_10', 'ProductId_ProductId_11',\n",
      "       'ProductId_ProductId_12', 'ProductId_ProductId_13',\n",
      "       'ProductId_ProductId_14', 'ProductId_ProductId_15',\n",
      "       'ProductId_ProductId_16', 'ProductId_ProductId_19',\n",
      "       'ProductId_ProductId_2', 'ProductId_ProductId_20',\n",
      "       'ProductId_ProductId_21', 'ProductId_ProductId_22',\n",
      "       'ProductId_ProductId_23', 'ProductId_ProductId_24',\n",
      "       'ProductId_ProductId_27', 'ProductId_ProductId_3',\n",
      "       'ProductId_ProductId_4', 'ProductId_ProductId_5',\n",
      "       'ProductId_ProductId_6', 'ProductId_ProductId_7',\n",
      "       'ProductId_ProductId_8', 'ProductId_ProductId_9'],\n",
      "      dtype='object')\n"
     ]
    }
   ],
   "source": [
    "print(transact_df.columns)"
   ]
  },
  {
   "cell_type": "code",
   "execution_count": 16,
   "metadata": {},
   "outputs": [],
   "source": [
    "# Data Splitting\n",
    "X = transact_df.drop('FraudResult', axis=1)\n",
    "y = transact_df['FraudResult']\n",
    "X_train, X_test, y_train, y_test = train_test_split(X, y, test_size=0.2, random_state=42)\n",
    "train = pd.concat([X_train, y_train], axis=1)\n",
    "test = pd.concat([X_test, y_test], axis=1)"
   ]
  },
  {
   "cell_type": "code",
   "execution_count": 17,
   "metadata": {},
   "outputs": [],
   "source": [
    "# One-Hot Encode ProductCategory_Amount\n",
    "train = encode_categorical_features(train, ['ProductCategory_Amount'])\n",
    "test = encode_categorical_features(test, ['ProductCategory_Amount'])"
   ]
  },
  {
   "cell_type": "code",
   "execution_count": 19,
   "metadata": {},
   "outputs": [],
   "source": [
    "# Impute Missing Values (Mean Imputation)\n",
    "for col in train.columns:\n",
    "    if train[col].isnull().any():\n",
    "        train[col] = train[col].fillna(train[col].mean())\n",
    "        test[col] = test[col].fillna(test[col].mean()) "
   ]
  },
  {
   "cell_type": "code",
   "execution_count": 20,
   "metadata": {},
   "outputs": [],
   "source": [
    "# Apply SMOTE for Training Set Only\n",
    "train_balanced = apply_smote(train)"
   ]
  },
  {
   "cell_type": "code",
   "execution_count": 23,
   "metadata": {},
   "outputs": [],
   "source": [
    "# Feature Scaling\n",
    "numerical_cols = train_balanced.select_dtypes(include=['number']).columns.tolist()\n",
    "numerical_cols.remove('FraudResult') #remove target variable\n",
    "scaler = StandardScaler()\n",
    "train_balanced[numerical_cols] = scaler.fit_transform(train_balanced[numerical_cols])\n",
    "test[numerical_cols] = scaler.transform(test[numerical_cols])"
   ]
  },
  {
   "cell_type": "code",
   "execution_count": 24,
   "metadata": {},
   "outputs": [],
   "source": [
    "# Data Type Optimization\n",
    "for col in train_balanced.columns:\n",
    "    if train_balanced[col].dtype == 'int64':\n",
    "        train_balanced[col] = pd.to_numeric(train_balanced[col], downcast='integer')\n",
    "    elif train_balanced[col].dtype == 'float64':\n",
    "        train_balanced[col] = pd.to_numeric(train_balanced[col], downcast='float')\n",
    "    elif train_balanced[col].dtype == 'object':\n",
    "        train_balanced[col] = train_balanced[col].astype('category')\n",
    "\n",
    "for col in test.columns:\n",
    "    if test[col].dtype == 'int64':\n",
    "        test[col] = pd.to_numeric(test[col], downcast='integer')\n",
    "    elif test[col].dtype == 'float64':\n",
    "        test[col] = pd.to_numeric(test[col], downcast='float')\n",
    "    elif test[col].dtype == 'object':\n",
    "        test[col] = test[col].astype('category')\n"
   ]
  },
  {
   "cell_type": "code",
   "execution_count": 25,
   "metadata": {},
   "outputs": [
    {
     "data": {
      "text/html": [
       "<div>\n",
       "<style scoped>\n",
       "    .dataframe tbody tr th:only-of-type {\n",
       "        vertical-align: middle;\n",
       "    }\n",
       "\n",
       "    .dataframe tbody tr th {\n",
       "        vertical-align: top;\n",
       "    }\n",
       "\n",
       "    .dataframe thead th {\n",
       "        text-align: right;\n",
       "    }\n",
       "</style>\n",
       "<table border=\"1\" class=\"dataframe\">\n",
       "  <thead>\n",
       "    <tr style=\"text-align: right;\">\n",
       "      <th></th>\n",
       "      <th>CountryCode</th>\n",
       "      <th>Amount</th>\n",
       "      <th>TransactionHour</th>\n",
       "      <th>TransactionDayOfWeek</th>\n",
       "      <th>TransactionMonth</th>\n",
       "      <th>TransactionYear</th>\n",
       "      <th>customer_total_amount</th>\n",
       "      <th>customer_mean_amount</th>\n",
       "      <th>customer_transaction_count</th>\n",
       "      <th>customer_amount_std</th>\n",
       "      <th>...</th>\n",
       "      <th>ProductCategory_Amount_utility_bill_8800.0</th>\n",
       "      <th>ProductCategory_Amount_utility_bill_8840.0</th>\n",
       "      <th>ProductCategory_Amount_utility_bill_8900.0</th>\n",
       "      <th>ProductCategory_Amount_utility_bill_9000.0</th>\n",
       "      <th>ProductCategory_Amount_utility_bill_90000.0</th>\n",
       "      <th>ProductCategory_Amount_utility_bill_91000.0</th>\n",
       "      <th>ProductCategory_Amount_utility_bill_9500.0</th>\n",
       "      <th>ProductCategory_Amount_utility_bill_95000.0</th>\n",
       "      <th>ProductCategory_Amount_utility_bill_9800.0</th>\n",
       "      <th>FraudResult</th>\n",
       "    </tr>\n",
       "  </thead>\n",
       "  <tbody>\n",
       "    <tr>\n",
       "      <th>0</th>\n",
       "      <td>0.0</td>\n",
       "      <td>-0.487126</td>\n",
       "      <td>-1.034983</td>\n",
       "      <td>1.868401</td>\n",
       "      <td>-0.988400</td>\n",
       "      <td>1.006766</td>\n",
       "      <td>-0.377174</td>\n",
       "      <td>-0.322046</td>\n",
       "      <td>-0.171162</td>\n",
       "      <td>-0.611225</td>\n",
       "      <td>...</td>\n",
       "      <td>False</td>\n",
       "      <td>False</td>\n",
       "      <td>False</td>\n",
       "      <td>False</td>\n",
       "      <td>False</td>\n",
       "      <td>False</td>\n",
       "      <td>False</td>\n",
       "      <td>False</td>\n",
       "      <td>False</td>\n",
       "      <td>0</td>\n",
       "    </tr>\n",
       "    <tr>\n",
       "      <th>1</th>\n",
       "      <td>0.0</td>\n",
       "      <td>-0.483643</td>\n",
       "      <td>0.691916</td>\n",
       "      <td>0.730151</td>\n",
       "      <td>1.231405</td>\n",
       "      <td>-0.993279</td>\n",
       "      <td>-0.372279</td>\n",
       "      <td>-0.318150</td>\n",
       "      <td>-0.262924</td>\n",
       "      <td>-0.604897</td>\n",
       "      <td>...</td>\n",
       "      <td>False</td>\n",
       "      <td>False</td>\n",
       "      <td>False</td>\n",
       "      <td>False</td>\n",
       "      <td>False</td>\n",
       "      <td>False</td>\n",
       "      <td>False</td>\n",
       "      <td>False</td>\n",
       "      <td>False</td>\n",
       "      <td>0</td>\n",
       "    </tr>\n",
       "    <tr>\n",
       "      <th>2</th>\n",
       "      <td>0.0</td>\n",
       "      <td>-0.486375</td>\n",
       "      <td>1.123640</td>\n",
       "      <td>-0.408098</td>\n",
       "      <td>-0.988400</td>\n",
       "      <td>1.006766</td>\n",
       "      <td>-0.377786</td>\n",
       "      <td>-0.321707</td>\n",
       "      <td>-0.222487</td>\n",
       "      <td>-0.609612</td>\n",
       "      <td>...</td>\n",
       "      <td>False</td>\n",
       "      <td>False</td>\n",
       "      <td>False</td>\n",
       "      <td>False</td>\n",
       "      <td>False</td>\n",
       "      <td>False</td>\n",
       "      <td>False</td>\n",
       "      <td>False</td>\n",
       "      <td>False</td>\n",
       "      <td>0</td>\n",
       "    </tr>\n",
       "    <tr>\n",
       "      <th>3</th>\n",
       "      <td>0.0</td>\n",
       "      <td>-0.487105</td>\n",
       "      <td>-0.387396</td>\n",
       "      <td>1.299276</td>\n",
       "      <td>-0.988400</td>\n",
       "      <td>1.006766</td>\n",
       "      <td>-0.367504</td>\n",
       "      <td>-0.322238</td>\n",
       "      <td>0.223884</td>\n",
       "      <td>-0.609324</td>\n",
       "      <td>...</td>\n",
       "      <td>False</td>\n",
       "      <td>False</td>\n",
       "      <td>False</td>\n",
       "      <td>False</td>\n",
       "      <td>False</td>\n",
       "      <td>False</td>\n",
       "      <td>False</td>\n",
       "      <td>False</td>\n",
       "      <td>False</td>\n",
       "      <td>0</td>\n",
       "    </tr>\n",
       "    <tr>\n",
       "      <th>4</th>\n",
       "      <td>0.0</td>\n",
       "      <td>-0.473401</td>\n",
       "      <td>-1.250845</td>\n",
       "      <td>0.730151</td>\n",
       "      <td>-0.786600</td>\n",
       "      <td>1.006766</td>\n",
       "      <td>-0.303198</td>\n",
       "      <td>-0.318815</td>\n",
       "      <td>0.522501</td>\n",
       "      <td>-0.575840</td>\n",
       "      <td>...</td>\n",
       "      <td>False</td>\n",
       "      <td>False</td>\n",
       "      <td>False</td>\n",
       "      <td>False</td>\n",
       "      <td>False</td>\n",
       "      <td>False</td>\n",
       "      <td>False</td>\n",
       "      <td>False</td>\n",
       "      <td>False</td>\n",
       "      <td>0</td>\n",
       "    </tr>\n",
       "  </tbody>\n",
       "</table>\n",
       "<p>5 rows × 1962 columns</p>\n",
       "</div>"
      ],
      "text/plain": [
       "   CountryCode    Amount  TransactionHour  TransactionDayOfWeek  \\\n",
       "0          0.0 -0.487126        -1.034983              1.868401   \n",
       "1          0.0 -0.483643         0.691916              0.730151   \n",
       "2          0.0 -0.486375         1.123640             -0.408098   \n",
       "3          0.0 -0.487105        -0.387396              1.299276   \n",
       "4          0.0 -0.473401        -1.250845              0.730151   \n",
       "\n",
       "   TransactionMonth  TransactionYear  customer_total_amount  \\\n",
       "0         -0.988400         1.006766              -0.377174   \n",
       "1          1.231405        -0.993279              -0.372279   \n",
       "2         -0.988400         1.006766              -0.377786   \n",
       "3         -0.988400         1.006766              -0.367504   \n",
       "4         -0.786600         1.006766              -0.303198   \n",
       "\n",
       "   customer_mean_amount  customer_transaction_count  customer_amount_std  ...  \\\n",
       "0             -0.322046                   -0.171162            -0.611225  ...   \n",
       "1             -0.318150                   -0.262924            -0.604897  ...   \n",
       "2             -0.321707                   -0.222487            -0.609612  ...   \n",
       "3             -0.322238                    0.223884            -0.609324  ...   \n",
       "4             -0.318815                    0.522501            -0.575840  ...   \n",
       "\n",
       "   ProductCategory_Amount_utility_bill_8800.0  \\\n",
       "0                                       False   \n",
       "1                                       False   \n",
       "2                                       False   \n",
       "3                                       False   \n",
       "4                                       False   \n",
       "\n",
       "   ProductCategory_Amount_utility_bill_8840.0  \\\n",
       "0                                       False   \n",
       "1                                       False   \n",
       "2                                       False   \n",
       "3                                       False   \n",
       "4                                       False   \n",
       "\n",
       "   ProductCategory_Amount_utility_bill_8900.0  \\\n",
       "0                                       False   \n",
       "1                                       False   \n",
       "2                                       False   \n",
       "3                                       False   \n",
       "4                                       False   \n",
       "\n",
       "   ProductCategory_Amount_utility_bill_9000.0  \\\n",
       "0                                       False   \n",
       "1                                       False   \n",
       "2                                       False   \n",
       "3                                       False   \n",
       "4                                       False   \n",
       "\n",
       "   ProductCategory_Amount_utility_bill_90000.0  \\\n",
       "0                                        False   \n",
       "1                                        False   \n",
       "2                                        False   \n",
       "3                                        False   \n",
       "4                                        False   \n",
       "\n",
       "   ProductCategory_Amount_utility_bill_91000.0  \\\n",
       "0                                        False   \n",
       "1                                        False   \n",
       "2                                        False   \n",
       "3                                        False   \n",
       "4                                        False   \n",
       "\n",
       "   ProductCategory_Amount_utility_bill_9500.0  \\\n",
       "0                                       False   \n",
       "1                                       False   \n",
       "2                                       False   \n",
       "3                                       False   \n",
       "4                                       False   \n",
       "\n",
       "   ProductCategory_Amount_utility_bill_95000.0  \\\n",
       "0                                        False   \n",
       "1                                        False   \n",
       "2                                        False   \n",
       "3                                        False   \n",
       "4                                        False   \n",
       "\n",
       "   ProductCategory_Amount_utility_bill_9800.0  FraudResult  \n",
       "0                                       False            0  \n",
       "1                                       False            0  \n",
       "2                                       False            0  \n",
       "3                                       False            0  \n",
       "4                                       False            0  \n",
       "\n",
       "[5 rows x 1962 columns]"
      ]
     },
     "execution_count": 25,
     "metadata": {},
     "output_type": "execute_result"
    }
   ],
   "source": [
    "train_balanced.head()"
   ]
  },
  {
   "cell_type": "code",
   "execution_count": 26,
   "metadata": {},
   "outputs": [
    {
     "name": "stdout",
     "output_type": "stream",
     "text": [
      "Index(['CountryCode', 'Amount', 'TransactionHour', 'TransactionDayOfWeek',\n",
      "       'TransactionMonth', 'TransactionYear', 'customer_total_amount',\n",
      "       'customer_mean_amount', 'customer_transaction_count',\n",
      "       'customer_amount_std',\n",
      "       ...\n",
      "       'ProductCategory_Amount_utility_bill_8800.0',\n",
      "       'ProductCategory_Amount_utility_bill_8840.0',\n",
      "       'ProductCategory_Amount_utility_bill_8900.0',\n",
      "       'ProductCategory_Amount_utility_bill_9000.0',\n",
      "       'ProductCategory_Amount_utility_bill_90000.0',\n",
      "       'ProductCategory_Amount_utility_bill_91000.0',\n",
      "       'ProductCategory_Amount_utility_bill_9500.0',\n",
      "       'ProductCategory_Amount_utility_bill_95000.0',\n",
      "       'ProductCategory_Amount_utility_bill_9800.0', 'FraudResult'],\n",
      "      dtype='object', length=1962)\n"
     ]
    }
   ],
   "source": [
    "print(train_balanced.columns)"
   ]
  },
  {
   "cell_type": "code",
   "execution_count": 22,
   "metadata": {},
   "outputs": [],
   "source": [
    "# Save the prepared data for later use\n",
    "train_balanced.to_csv(r'C:\\Users\\user\\Desktop\\BatiBank_SmartCredit\\data\\train_balanced.csv', index=False)\n",
    "test.to_csv(r'C:\\Users\\user\\Desktop\\BatiBank_SmartCredit\\data\\test.csv', index=False)"
   ]
  }
 ],
 "metadata": {
  "kernelspec": {
   "display_name": "batvenv",
   "language": "python",
   "name": "python3"
  },
  "language_info": {
   "codemirror_mode": {
    "name": "ipython",
    "version": 3
   },
   "file_extension": ".py",
   "mimetype": "text/x-python",
   "name": "python",
   "nbconvert_exporter": "python",
   "pygments_lexer": "ipython3",
   "version": "3.12.2"
  }
 },
 "nbformat": 4,
 "nbformat_minor": 2
}
